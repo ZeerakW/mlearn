{
 "cells": [
  {
   "cell_type": "code",
   "execution_count": 1,
   "metadata": {},
   "outputs": [],
   "source": [
    "from mlapi.utils.readers import MongoDB\n",
    "conn = MongoDB('localhost', 27017)\n",
    "conn.database = 'TestDB'\n",
    "conn.collection = 'testCollection'\n",
    "first = {'_id': 1, 'text': 'This is a test', 'id': 1}\n",
    "second = {'_id': 2, 'text': 'This is not a test', 'id': 2}\n",
    "update = {'_id': 1, 'text': 'This is totally a test', 'id': 1} "
   ]
  },
  {
   "cell_type": "code",
   "execution_count": 2,
   "metadata": {},
   "outputs": [
    {
     "name": "stdout",
     "output_type": "stream",
     "text": [
      "\u001b[33mmongodb | 05-04-2018 22:24:53 | WARNING | Duplicate Key found E11000 duplicate key error collection: TestDB.testCollection index: _id_ dup key: { : 1 }\u001b[0m\n",
      "\u001b[33mmongodb | 05-04-2018 22:24:53 | WARNING | Duplicate Key found E11000 duplicate key error collection: TestDB.testCollection index: _id_ dup key: { : 2 }\u001b[0m\n"
     ]
    },
    {
     "data": {
      "text/plain": [
       "False"
      ]
     },
     "execution_count": 2,
     "metadata": {},
     "output_type": "execute_result"
    }
   ],
   "source": [
    "conn.store_one_record(first)\n",
    "conn.store_one_record(second)"
   ]
  },
  {
   "cell_type": "code",
   "execution_count": 3,
   "metadata": {},
   "outputs": [],
   "source": [
    "conn.update_one_record(1, first, op = '$set')"
   ]
  },
  {
   "cell_type": "code",
   "execution_count": 4,
   "metadata": {},
   "outputs": [],
   "source": [
    "from mlapi.utils.iters import MongoIter\n",
    "iters = conn.retrieve_many_records({})\n",
    "iter2 = MongoIter(conn, {})"
   ]
  },
  {
   "cell_type": "code",
   "execution_count": 5,
   "metadata": {},
   "outputs": [],
   "source": [
    "foo = list(iter2)"
   ]
  },
  {
   "cell_type": "code",
   "execution_count": 6,
   "metadata": {},
   "outputs": [
    {
     "data": {
      "text/plain": [
       "[{'_id': 1, 'id': 1, 'text': 'This is a test'},\n",
       " {'_id': 2, 'id': 2, 'text': 'This is not a test'}]"
      ]
     },
     "execution_count": 6,
     "metadata": {},
     "output_type": "execute_result"
    }
   ],
   "source": [
    "foo"
   ]
  },
  {
   "cell_type": "code",
   "execution_count": 7,
   "metadata": {},
   "outputs": [],
   "source": [
    "bar = list(iter2)"
   ]
  },
  {
   "cell_type": "code",
   "execution_count": 8,
   "metadata": {},
   "outputs": [
    {
     "data": {
      "text/plain": [
       "[{'_id': 1, 'id': 1, 'text': 'This is a test'},\n",
       " {'_id': 2, 'id': 2, 'text': 'This is not a test'}]"
      ]
     },
     "execution_count": 8,
     "metadata": {},
     "output_type": "execute_result"
    }
   ],
   "source": [
    "bar"
   ]
  },
  {
   "cell_type": "code",
   "execution_count": 10,
   "metadata": {},
   "outputs": [
    {
     "name": "stdout",
     "output_type": "stream",
     "text": [
      "[{'_id': 1, 'text': 'This is a test', 'id': 1}, {'_id': 2, 'text': 'This is not a test', 'id': 2}] []\n"
     ]
    }
   ],
   "source": [
    "foo = list(iters)\n",
    "bar = list(iters)\n",
    "print(foo, bar)"
   ]
  },
  {
   "cell_type": "code",
   "execution_count": null,
   "metadata": {},
   "outputs": [],
   "source": []
  }
 ],
 "metadata": {
  "kernelspec": {
   "display_name": "Python 3",
   "language": "python",
   "name": "python3"
  },
  "language_info": {
   "codemirror_mode": {
    "name": "ipython",
    "version": 3
   },
   "file_extension": ".py",
   "mimetype": "text/x-python",
   "name": "python",
   "nbconvert_exporter": "python",
   "pygments_lexer": "ipython3",
   "version": "3.6.4"
  }
 },
 "nbformat": 4,
 "nbformat_minor": 2
}
