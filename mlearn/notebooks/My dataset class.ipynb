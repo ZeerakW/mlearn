{
 "cells": [
  {
   "cell_type": "code",
   "execution_count": 1,
   "metadata": {},
   "outputs": [],
   "source": [
    "import sys\n",
    "import csv\n",
    "import torch.nn as nn\n",
    "import torch.optim as optim\n",
    "sys.path.extend(['/Users/zeerakw/Documents/PhD/projects/active/Generalisable_abuse'])\n",
    "\n",
    "from gen.shared.data import GeneralDataset\n",
    "from gen.shared.batching import Batch, BatchExtractor\n",
    "from gen.shared.base import Field\n",
    "from gen.neural import RNNClassifier\n",
    "from gen.shared.clean import Cleaner\n",
    "from gen.shared.train import run_model\n",
    "from sklearn.metrics import accuracy_score"
   ]
  },
  {
   "cell_type": "markdown",
   "metadata": {},
   "source": [
    "Here we set the text fields which correspond to the individual fields in the csv or json file. The distinction between JSON and CSV is set through the ```ftype``` argument in the GeneralDataset class. In the field objects, the ```cname``` attribute should correspond to json field attributes.\n",
    "\n",
    "NOTE: Only works with top level JSON keys."
   ]
  },
  {
   "cell_type": "code",
   "execution_count": 2,
   "metadata": {},
   "outputs": [
    {
     "name": "stderr",
     "output_type": "stream",
     "text": [
      "loading Davidson et al. (train): 887it [00:00, 23182.19it/s]\n"
     ]
    }
   ],
   "source": [
    "text_field = Field('text', train = True, label = False, ignore = False, ix = 6, cname = 'text')\n",
    "label_field = Field('label', train = False, label = True, cname = 'label', ignore = False, ix = 5)\n",
    "ignore_field = Field('ignore', train = False, label = False, cname = 'ignore', ignore = True)\n",
    "\n",
    "davidson_fields = [ignore_field, ignore_field, ignore_field, ignore_field, ignore_field, label_field, text_field]\n",
    "\n",
    "dataset = GeneralDataset(data_dir = '~/PhD/projects/active/Generalisable_abuse/data/',\n",
    "                         ftype = 'csv', fields = davidson_fields, train = 'davidson_train.csv', dev = None,\n",
    "                         test = None, train_labels = None, tokenizer = lambda x: x.split(),\n",
    "                         lower = True, preprocessor = None, transformations = None,\n",
    "                         label_processor = None, sep = ',', name = 'Davidson et al.')\n",
    "dataset.load('train')"
   ]
  },
  {
   "cell_type": "markdown",
   "metadata": {},
   "source": [
    "We then split our dataset, and build our vocabulary and labels on only our training set. \n",
    "We then encode the documents in into onehot tensors and process the labels."
   ]
  },
  {
   "cell_type": "code",
   "execution_count": 3,
   "metadata": {},
   "outputs": [
    {
     "name": "stderr",
     "output_type": "stream",
     "text": [
      "Building vocabulary: 100%|██████████| 709/709 [00:00<00:00, 40202.26it/s]\n",
      "Encoding data: 100%|██████████| 709/709 [00:01<00:00, 380.80it/s]\n",
      "Encoding data: 0it [00:00, ?it/s]\n",
      "Encoding data: 100%|██████████| 88/88 [00:00<00:00, 265.95it/s]\n"
     ]
    }
   ],
   "source": [
    "train, dev, test = dataset.split(dataset.data, [0.8, 0.1, 0.1])\n",
    "dataset.build_token_vocab(train)\n",
    "dataset.build_label_vocab(train)\n",
    "dataset.process_labels(train)\n",
    "\n",
    "dataset.process_labels(dev)\n",
    "\n",
    "train = dataset.encode(train, onehot = True)\n",
    "dev = dataset.encode(dev, onehot = True)\n",
    "test = dataset.encode(test, onehot = True)\n",
    "dataset.process_labels(test)"
   ]
  },
  {
   "cell_type": "markdown",
   "metadata": {},
   "source": [
    "We finally batch the dataset and access the encoded data and processed labels."
   ]
  },
  {
   "cell_type": "code",
   "execution_count": 4,
   "metadata": {},
   "outputs": [],
   "source": [
    "batched = Batch(64, train)\n",
    "batched.create_batches()\n",
    "batched_train = BatchExtractor('encoded', 'label', batched)\n",
    "\n",
    "batched = Batch(64, dev)\n",
    "batched.create_batches()\n",
    "batched_dev = BatchExtractor('encoded', 'label', batched)\n",
    "\n",
    "batched = Batch(len(test), test)\n",
    "batched.create_batches()\n",
    "batched_test = BatchExtractor('encoded', 'label', batched)"
   ]
  },
  {
   "cell_type": "markdown",
   "metadata": {},
   "source": [
    "Finally, we can initialise the model and losses, train and evaluate using it"
   ]
  },
  {
   "cell_type": "code",
   "execution_count": 6,
   "metadata": {},
   "outputs": [
    {
     "name": "stderr",
     "output_type": "stream",
     "text": [
      "\r",
      "  0%|          | 0/5 [00:00<?, ?it/s]"
     ]
    },
    {
     "name": "stdout",
     "output_type": "stream",
     "text": [
      "<class 'torch.optim.adam.Adam'>\n",
      "<class 'torch.nn.modules.loss.NLLLoss'>\n"
     ]
    },
    {
     "name": "stderr",
     "output_type": "stream",
     "text": [
      "100%|██████████| 5/5 [00:10<00:00,  2.20s/it]\n"
     ]
    }
   ],
   "source": [
    "model = RNNClassifier(len(dataset.stoi), hidden_dim = 128, output_dim = 3, batch_first = True)\n",
    "optimizer = optim.Adam(model.parameters(), lr = 0.01)\n",
    "loss = nn.NLLLoss()\n",
    "print(type(optimizer))\n",
    "print(type(loss))\n",
    "writer = csv.writer(open('tmp', 'a', encoding = 'utf-8'), delimiter = '\\t')\n",
    "\n",
    "model_args = {'model': model, 'optimizer': optimizer, 'loss_func': loss, 'batches': batched_train,\n",
    "              'dev_batches': batched_dev, 'epochs': 5, 'metrics': {'accuracy': accuracy_score}, 'batch_first': True, \n",
    "              'embedding_dim': 300, 'hidden_dim': 300, 'input_dim': dataset.vocab_size(), \n",
    "              'output_dim': dataset.label_count(), 'data_name': dataset.name}\n",
    "info = [] # Should be the model parameters to be written out\n",
    "run_model('pytorch', train = True, writer = writer, model_info = info, head_len = 35, **model_args)"
   ]
  },
  {
   "cell_type": "code",
   "execution_count": 7,
   "metadata": {},
   "outputs": [],
   "source": [
    "eval_args = {'model': model, 'loss_func': loss, 'iterator': batched_test, 'metrics': {'accuracy': accuracy_score},\n",
    "             'epochs': 1, 'data_name': dataset.name}\n",
    "run_model('pytorch', train = False, writer = writer, model_info = [], head_len = 35, **eval_args)"
   ]
  },
  {
   "cell_type": "code",
   "execution_count": null,
   "metadata": {},
   "outputs": [],
   "source": [
    "reader = csv.reader(open('tmp', 'r'), delimiter = '\\t')\n",
    "\n",
    "for line in reader:\n",
    "    print(line)\n",
    "\n",
    "reader.close()"
   ]
  }
 ],
 "metadata": {
  "kernelspec": {
   "display_name": "Python 3",
   "language": "python",
   "name": "python3"
  },
  "language_info": {
   "codemirror_mode": {
    "name": "ipython",
    "version": 3
   },
   "file_extension": ".py",
   "mimetype": "text/x-python",
   "name": "python",
   "nbconvert_exporter": "python",
   "pygments_lexer": "ipython3",
   "version": "3.7.5"
  }
 },
 "nbformat": 4,
 "nbformat_minor": 2
}
